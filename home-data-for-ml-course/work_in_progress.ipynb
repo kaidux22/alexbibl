{
 "cells": [
  {
   "cell_type": "markdown",
   "id": "928522f8",
   "metadata": {},
   "source": [
    "# House Prices Regression Task"
   ]
  },
  {
   "cell_type": "markdown",
   "id": "d1cac42b",
   "metadata": {},
   "source": [
    "## Baseline (linreg)"
   ]
  },
  {
   "cell_type": "markdown",
   "id": "4f82aeed",
   "metadata": {},
   "source": []
  }
 ],
 "metadata": {
  "language_info": {
   "name": "python"
  }
 },
 "nbformat": 4,
 "nbformat_minor": 5
}
